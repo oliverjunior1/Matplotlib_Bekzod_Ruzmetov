{
 "cells": [
  {
   "cell_type": "markdown",
   "id": "3c71a0b1-ab5f-4055-8fb2-ca59f86d6451",
   "metadata": {},
   "source": [
    "## Add Legends with Legend Artist"
   ]
  },
  {
   "cell_type": "code",
   "execution_count": 4,
   "id": "ab540093-1230-4c4c-90a8-854b8e305762",
   "metadata": {},
   "outputs": [],
   "source": [
    "import matplotlib.pyplot as plt\n",
    "\n",
    "from matplotlib.legend import Legend\n",
    "from matplotlib.patches import Rectangle\n",
    "\n",
    "%matplotlib inline"
   ]
  },
  {
   "cell_type": "code",
   "execution_count": 27,
   "id": "7c5d6f04-98a7-40f4-b0d7-c022808a1b47",
   "metadata": {},
   "outputs": [
    {
     "ename": "AttributeError",
     "evalue": "'Axes' object has no attribute 'add_aartis'",
     "output_type": "error",
     "traceback": [
      "\u001b[1;31m---------------------------------------------------------------------------\u001b[0m",
      "\u001b[1;31mAttributeError\u001b[0m                            Traceback (most recent call last)",
      "Cell \u001b[1;32mIn[27], line 22\u001b[0m\n\u001b[0;32m     18\u001b[0m handles, labels \u001b[38;5;241m=\u001b[39m ax\u001b[38;5;241m.\u001b[39mget_legend_handles_labels()\n\u001b[0;32m     20\u001b[0m legend \u001b[38;5;241m=\u001b[39m Legend(ax, handles\u001b[38;5;241m=\u001b[39mhandles, labels\u001b[38;5;241m=\u001b[39mlabels)\n\u001b[1;32m---> 22\u001b[0m ax\u001b[38;5;241m.\u001b[39madd_aartis(legend)\n\u001b[0;32m     24\u001b[0m fig\n",
      "\u001b[1;31mAttributeError\u001b[0m: 'Axes' object has no attribute 'add_aartis'"
     ]
    }
   ],
   "source": [
    "rec1 = Rectangle((0.1,0),0.1,0.3,label = 'Day 1')\n",
    "rec2 = Rectangle((0.25,0),0.1,0.6,label = 'Day 2')\n",
    "rec3 = Rectangle((0.4,0),0.1,0.9,label = 'Day 3')\n",
    "\n",
    "fig, ax = plt.subplots()\n",
    "\n",
    "ax.add_patch(rec1)\n",
    "ax.add_patch(rec2)\n",
    "ax.add_patch(rec3)\n",
    "\n",
    "colors = ['red', 'green', 'black']\n",
    "\n",
    "for p, c in zip(ax.patches, colors):\n",
    "    p.set_color(c)\n",
    "'''\n",
    "legend = Legend(ax, handles=[ax.patches[0], ax.patches[1], ax.patches[2]], labels=[ax.patches[0].get_label(), ax.patches[1].get_label(), ax.patches[2].get_label()])\n",
    "'''\n",
    "handles, labels = ax.get_legend_handles_labels()\n",
    "\n",
    "legend = Legend(ax, handles=handles, labels=labels)\n",
    "\n",
    "ax.add_aartis(legend)\n",
    "\n",
    "fig"
   ]
  },
  {
   "cell_type": "code",
   "execution_count": null,
   "id": "c8911df6-8c6c-4eda-878a-0a97dfdedadb",
   "metadata": {},
   "outputs": [],
   "source": []
  }
 ],
 "metadata": {
  "kernelspec": {
   "display_name": "Python 3 (ipykernel)",
   "language": "python",
   "name": "python3"
  },
  "language_info": {
   "codemirror_mode": {
    "name": "ipython",
    "version": 3
   },
   "file_extension": ".py",
   "mimetype": "text/x-python",
   "name": "python",
   "nbconvert_exporter": "python",
   "pygments_lexer": "ipython3",
   "version": "3.12.7"
  }
 },
 "nbformat": 4,
 "nbformat_minor": 5
}
